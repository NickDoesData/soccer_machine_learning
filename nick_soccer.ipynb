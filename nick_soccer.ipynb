{
 "cells": [
  {
   "cell_type": "code",
   "execution_count": null,
   "metadata": {
    "collapsed": true
   },
   "outputs": [],
   "source": [
    "import sqlite3\n",
    "import pandas as pd\n",
    "import numpy as np\n",
    "# Create your connection.\n",
    "cnx = sqlite3.connect('eu_soccer.sqlite')\n",
    "\n",
    "#df = pd.read_sql_query(\"SELECT * FROM table_name\", cnx)"
   ]
  },
  {
   "cell_type": "code",
   "execution_count": null,
   "metadata": {
    "collapsed": false
   },
   "outputs": [],
   "source": [
    "df_schema = pd.read_sql_query(\"select * from sqlite_master where type = 'table'\", con=cnx)"
   ]
  },
  {
   "cell_type": "code",
   "execution_count": null,
   "metadata": {
    "collapsed": false
   },
   "outputs": [],
   "source": [
    "df_schema"
   ]
  },
  {
   "cell_type": "markdown",
   "metadata": {},
   "source": [
    "### Fetch & Clean Data"
   ]
  },
  {
   "cell_type": "code",
   "execution_count": null,
   "metadata": {
    "collapsed": true
   },
   "outputs": [],
   "source": [
    "def create_df_match(cutoff_date = '6/30/2014'):\n",
    "\n",
    "    df_match = None\n",
    "    \n",
    "    cnx = sqlite3.connect('eu_soccer.sqlite')\n",
    "    df_match = pd.read_sql('select * from match', con=cnx)\n",
    "\n",
    "    \n",
    "    df_match.date = pd.to_datetime(df_match.date)\n",
    "    df_match = df_match[df_match.date > cutoff_date]\n",
    "    \n",
    "    # If player ID is NaN, fill it with 0\n",
    "    players = []\n",
    "    for x in range(11):\n",
    "            players.append('home_player_%s' % str(x+1))\n",
    "    for x in range(11):\n",
    "            players.append('away_player_%s' % str(x+1))\n",
    "    df_match[players] = df_match[players].fillna(0)\n",
    "    \n",
    "    return df_match"
   ]
  },
  {
   "cell_type": "code",
   "execution_count": null,
   "metadata": {
    "collapsed": true
   },
   "outputs": [],
   "source": [
    "def create_df_team():\n",
    "    \n",
    "    cnx = sqlite3.connect('eu_soccer.sqlite')\n",
    "    df_team = pd.read_sql(\"\"\"select * \n",
    "                          from team \n",
    "                          \"\"\", con=cnx)\n",
    "    \n",
    "    # pair league id with team\n",
    "    df_team_league = df_match[['id', 'home_team_api_id', 'league_id']].groupby(['league_id',\n",
    "                                                                        'home_team_api_id'])[['id']].count().reset_index()\n",
    "    del df_team_league['id']\n",
    "    df_team_league.columns = ['league_id', 'team_api_id']\n",
    "    df_team = pd.merge(df_team, df_team_league, how='right',left_on='team_api_id', right_on='team_api_id')\n",
    "    df_team_league = None\n",
    "    \n",
    "    return df_team"
   ]
  },
  {
   "cell_type": "code",
   "execution_count": null,
   "metadata": {
    "collapsed": false
   },
   "outputs": [],
   "source": [
    "def create_df_players():\n",
    "    \n",
    "    df_players = pd.read_sql('select * from player', con=cnx)\n",
    "    df_player_attributes = pd.read_sql('select * from player_attributes', con=cnx)\n",
    "    df_player_attributes.date = pd.to_datetime(df_player_attributes.date)\n",
    "    \n",
    "    # calculate overall player rating\n",
    "    df_player_attributes['year'] = df_player_attributes.date.dt.year\n",
    "    df_player_attributes = df_player_attributes[df_player_attributes.year > 2015].groupby('player_api_id')[['overall_rating']].mean().reset_index()\n",
    "    df_players = pd.merge(df_player_attributes, df_players, how='inner', left_on='player_api_id', right_on='player_api_id')\n",
    "\n",
    "        \n",
    "    return df_players"
   ]
  },
  {
   "cell_type": "markdown",
   "metadata": {},
   "source": [
    "#### This will refersh data from SQLite"
   ]
  },
  {
   "cell_type": "code",
   "execution_count": null,
   "metadata": {
    "collapsed": false
   },
   "outputs": [],
   "source": [
    "df_match = create_df_match()\n",
    "df_team = create_df_team()\n",
    "df_players = create_df_players()"
   ]
  },
  {
   "cell_type": "markdown",
   "metadata": {},
   "source": [
    "## Feature Engineering"
   ]
  },
  {
   "cell_type": "markdown",
   "metadata": {},
   "source": [
    "Let's engineer some features."
   ]
  },
  {
   "cell_type": "code",
   "execution_count": null,
   "metadata": {
    "collapsed": true
   },
   "outputs": [],
   "source": [
    "def calc_zscore(df):\n",
    "    \"\"\"Calculates the z-score of every column in a dataframe.\"\"\"\n",
    "\n",
    "    df = (df - df.mean()) / df.std()\n",
    "\n",
    "    return df"
   ]
  },
  {
   "cell_type": "markdown",
   "metadata": {},
   "source": [
    "#### Rank Players as Elite, Good, Average"
   ]
  },
  {
   "cell_type": "markdown",
   "metadata": {},
   "source": [
    "To rank players, we must consider their skil level in respect to their league. Christiano Ronaldo would score 100 goals a season in the scottish league, but will only score 40 in the Spanish league."
   ]
  },
  {
   "cell_type": "code",
   "execution_count": null,
   "metadata": {
    "collapsed": false,
    "scrolled": true
   },
   "outputs": [],
   "source": [
    "df_skill = pd.DataFrame()\n",
    "\n",
    "players =[]\n",
    "for x in range(11):\n",
    "    players.append('home_player_%s' % str(x+1))\n",
    "for x in range(11):\n",
    "    players.append('away_player_%s' % str(x+1))\n",
    "for x in players:\n",
    "    temp=df_match[[x,'id','league_id']].groupby([x, 'league_id'])['id'].count().reset_index().ix[:,:2]\n",
    "    temp.columns = ['player','league_id']\n",
    "    df_skill = pd.concat([df_skill,temp], axis=0)\n",
    "\n",
    "df_skill = df_skill.reset_index()\n",
    "del df_skill['index']\n",
    "df_skill = df_skill.groupby(['player', 'league_id']).count().reset_index()\n",
    "df_players = pd.merge(df_skill, df_players, left_on='player',\n",
    "                    right_on='player_api_id', how='right').dropna(how='any')\n",
    "del df_players['player']\n",
    "del df_skill\n",
    "\n",
    "average_cutoff = df_players.groupby('league_id')[['overall_rating']].quantile(.94).reset_index().set_index('league_id')\n",
    "good_cutoff = df_players.groupby('league_id')[['overall_rating']].quantile(.97).reset_index().set_index('league_id')\n",
    "elite_cutoff = df_players.groupby('league_id')[['overall_rating']].quantile(.99).reset_index().set_index('league_id')\n",
    "\n",
    "skill_cutoffs = pd.concat([average_cutoff, good_cutoff, elite_cutoff], axis=1)\n",
    "skill_cutoffs.columns = ['average', 'good', 'elite']\n",
    "# np.floor roudns down to nearest whole number\n",
    "skill_cutoffs = skill_cutoffs.reset_index().apply(np.floor)\n",
    "skill_cutoffs"
   ]
  },
  {
   "cell_type": "code",
   "execution_count": null,
   "metadata": {
    "collapsed": false
   },
   "outputs": [],
   "source": [
    "def elite_dummy(row,skill_cutoffs):\n",
    "    \n",
    "    average = int(skill_cutoffs['average'][skill_cutoffs['league_id'] == int(row['league_id'])])\n",
    "    good = int(skill_cutoffs['good'][skill_cutoffs['league_id'] == int(row['league_id'])])\n",
    "    elite = int(skill_cutoffs['elite'][skill_cutoffs['league_id'] == int(row['league_id'])])\n",
    "    \n",
    "    if int(row['overall_rating']) >= elite:\n",
    "        return 1\n",
    "    else:\n",
    "        return 0\n",
    "\n",
    "def good_dummy(row, skill_cutoffs):\n",
    "    \n",
    "    average = int(skill_cutoffs['average'][skill_cutoffs['league_id'] == int(row['league_id'])])\n",
    "    good = int(skill_cutoffs['good'][skill_cutoffs['league_id'] == int(row['league_id'])])\n",
    "    elite = int(skill_cutoffs['elite'][skill_cutoffs['league_id'] == int(row['league_id'])])\n",
    "    \n",
    "    if int(row['overall_rating']) >= good and int(row['overall_rating']) < elite:\n",
    "        return 1\n",
    "    else:\n",
    "        return 0\n",
    "    \n",
    "def average_dummy(row, skill_cutoffs):\n",
    "    \n",
    "    average = int(skill_cutoffs['average'][skill_cutoffs['league_id'] == int(row['league_id'])])\n",
    "    good = int(skill_cutoffs['good'][skill_cutoffs['league_id'] == int(row['league_id'])])\n",
    "    elite = int(skill_cutoffs['elite'][skill_cutoffs['league_id'] == int(row['league_id'])])\n",
    "    \n",
    "    if int(row['overall_rating']) >= average and int(row['overall_rating']) < good:\n",
    "        return 1\n",
    "    else:\n",
    "        return 0"
   ]
  },
  {
   "cell_type": "code",
   "execution_count": null,
   "metadata": {
    "collapsed": false,
    "scrolled": true
   },
   "outputs": [],
   "source": [
    "# add features to players\n",
    "\n",
    "df_players['elite'] = df_players.apply(elite_dummy, skill_cutoffs=skill_cutoffs,axis=1)\n",
    "df_players['good'] = df_players.apply(good_dummy, skill_cutoffs=skill_cutoffs, axis=1)\n",
    "df_players['average'] = df_players.apply(average_dummy, skill_cutoffs=skill_cutoffs, axis=1)"
   ]
  },
  {
   "cell_type": "markdown",
   "metadata": {},
   "source": [
    "#### Create Possession Stats"
   ]
  },
  {
   "cell_type": "markdown",
   "metadata": {},
   "source": [
    "Each team is assigned a possession coefficient to determine if that team usually holds a lot of possession or not."
   ]
  },
  {
   "cell_type": "code",
   "execution_count": null,
   "metadata": {
    "collapsed": true
   },
   "outputs": [],
   "source": [
    "def create_df_possession(df_match, cutoff_date='6/30/2014'):\n",
    "    \n",
    "    df = df_match.copy(deep=True)\n",
    "    \n",
    "    df['home_possession'] = pd.to_numeric(df['possession'].str.replace(\"<possession><value><comment>\",\"\")\n",
    "                                                .str[:2].str.replace(\"<p\",\"\"))\n",
    "    \n",
    "    df['away_possession']= 100 - df.home_possession\n",
    "    \n",
    "    df_home_poss = df[['home_team_api_id','league_id','home_possession']][df.date > cutoff_date].dropna()\n",
    "    df_home_poss.columns = ['team_api_id', 'league_id', 'possession']\n",
    "    \n",
    "    df_away_poss = df[['away_team_api_id','league_id','away_possession']][df.date > cutoff_date].dropna()\n",
    "    df_away_poss.columns = ['team_api_id', 'league_id', 'possession']\n",
    "    \n",
    "    df_possession = pd.concat([df_home_poss, df_away_poss], axis=0)\n",
    "    df_possession = df_possession.groupby('team_api_id')[['possession']].mean().reset_index()\n",
    "    \n",
    "    return df_possession"
   ]
  },
  {
   "cell_type": "code",
   "execution_count": null,
   "metadata": {
    "collapsed": true
   },
   "outputs": [],
   "source": [
    "# add features to team\n",
    "\n",
    "# create possession stats\n",
    "df_possession = create_df_possession(df_match)\n",
    "df_possession = df_possession.set_index('team_api_id')\n",
    "df_possession = calc_zscore(df_possession)\n",
    "df_possession = df_possession.reset_index()\n",
    "\n",
    "df_team = pd.merge(df_team, df_possession, how='left',left_on='team_api_id', right_on='team_api_id')\n",
    "df_team = df_team.set_index('team_api_id')\n",
    "del df_team['id']"
   ]
  },
  {
   "cell_type": "markdown",
   "metadata": {},
   "source": [
    "#### Create Home/Away Goals per Game"
   ]
  },
  {
   "cell_type": "code",
   "execution_count": null,
   "metadata": {
    "collapsed": true
   },
   "outputs": [],
   "source": [
    "\n",
    "# create home/away goals scored avg\n",
    "cutoff_date = '6/30/2014'\n",
    "df_home_goals = df_match[['home_team_api_id', 'home_team_goal', 'away_team_goal']][df_match.date > '6/30/2014']\n",
    "df_home_goals.columns = ['team_api_id', 'home_goals_scored', 'home_goals_allowed']\n",
    "df_away_goals = df_match[['away_team_api_id', 'away_team_goal', 'home_team_goal']][df_match.date > '6/30/2014']\n",
    "df_away_goals.columns = ['team_api_id', 'away_goals_scored', 'away_goals_allowed']\n",
    "df_home_goals = df_home_goals.groupby('team_api_id')[['home_goals_scored', 'home_goals_allowed']].mean()\n",
    "df_away_goals = df_away_goals.groupby('team_api_id')[['away_goals_scored', 'away_goals_allowed']].mean()\n",
    "df_goals = pd.concat([df_home_goals, df_away_goals], axis=1)\n",
    "\n",
    "df_team = pd.concat([df_team, df_goals], axis=1)"
   ]
  },
  {
   "cell_type": "markdown",
   "metadata": {},
   "source": [
    "#### Create elite, good, and average players participating in each game"
   ]
  },
  {
   "cell_type": "code",
   "execution_count": null,
   "metadata": {
    "collapsed": false
   },
   "outputs": [],
   "source": [
    "def player_report(row, player_group, home=True):\n",
    "    \"\"\"Level should be average, good, elite\"\"\"\n",
    "\n",
    "    match_id = row['id']\n",
    "    \n",
    "    if home==True:\n",
    "        team='home'\n",
    "    else:\n",
    "        team='away'\n",
    "    \n",
    "    players = []\n",
    "    for x in range(11):\n",
    "        players.append('%s_player_%s' % (team, str(x+1)))\n",
    "           \n",
    "    player_count = 0\n",
    "    \n",
    "    for x in players:\n",
    "        \n",
    "        player = int(df_match[x][df_match.id == match_id])\n",
    "        #print df_players[['overall_rating', 'player_name', 'elite','good','average']][df_players.player_api_id == player]\n",
    "        if player in player_group:\n",
    "            player_count +=1\n",
    "    \n",
    "\n",
    "    return player_count"
   ]
  },
  {
   "cell_type": "code",
   "execution_count": null,
   "metadata": {
    "collapsed": false,
    "scrolled": true
   },
   "outputs": [],
   "source": [
    "average_group = list(df_players['player_api_id'][df_players.average == 1])\n",
    "good_group = list(df_players['player_api_id'][df_players.good == 1])\n",
    "elite_group = list(df_players['player_api_id'][df_players.elite == 1])\n",
    "\n",
    "df_match['home_average_players'] = df_match.apply(player_report, player_group = average_group, home=True, axis=1)\n",
    "print 'Complete.'\n",
    "df_match['home_good_players'] = df_match.apply(player_report, player_group = good_group, home=True, axis=1)\n",
    "print 'Complete.'\n",
    "df_match['home_elite_players'] = df_match.apply(player_report, player_group = elite_group, home=True, axis=1)\n",
    "print 'Complete.'\n",
    "df_match['away_average_players'] = df_match.apply(player_report, player_group = average_group, home=False, axis=1)\n",
    "print 'Complete.'\n",
    "df_match['away_good_players'] = df_match.apply(player_report, player_group = good_group, home=False, axis=1)\n",
    "print 'Complete.'\n",
    "df_match['away_elite_players'] = df_match.apply(player_report, player_group = elite_group, home=False, axis=1)\n",
    "print 'For realz Complete.'"
   ]
  },
  {
   "cell_type": "markdown",
   "metadata": {},
   "source": [
    "#### Combine Features into one Table"
   ]
  },
  {
   "cell_type": "code",
   "execution_count": null,
   "metadata": {
    "collapsed": false
   },
   "outputs": [],
   "source": [
    "df_team = df_team.reset_index()\n",
    "cols = ['id','date','league_id','match_api_id','home_team_api_id','away_team_api_id','home_team_goal',\n",
    "'away_team_goal',\"outcome\",'home_average_players', 'home_good_players', 'home_elite_players', 'away_average_players',\n",
    "        'away_good_players', 'away_elite_players','PSH', 'PSD', 'PSA']\n",
    "\n",
    "df_match = pd.merge(df_match[cols], df_team[['team_api_id', 'team_long_name', 'possession', \n",
    "                    'home_goals_scored', 'home_goals_allowed']], left_on = 'home_team_api_id', right_on = 'team_api_id')\n",
    "df_match = pd.merge(df_match, df_team[['team_api_id', 'team_long_name', 'possession', \n",
    "                    'away_goals_scored', 'away_goals_allowed']], left_on = 'away_team_api_id', right_on = 'team_api_id')\n",
    "\n",
    "del df_match['team_api_id_y']\n",
    "del df_match['team_api_id_x']\n",
    "\n",
    "df_match = df_match.rename(columns = {'team_long_name_x':'home_team_name', 'possession_x': 'home_possession',\n",
    "                                      'team_long_name_y':'away_team_name', 'possession_y': 'away_possession',})"
   ]
  },
  {
   "cell_type": "markdown",
   "metadata": {},
   "source": [
    "### Prepare Test Set"
   ]
  },
  {
   "cell_type": "code",
   "execution_count": null,
   "metadata": {
    "collapsed": false
   },
   "outputs": [],
   "source": [
    "def test_player_report(row, player_group, home=True):\n",
    "    \"\"\"Level should be average, good, elite\"\"\"\n",
    "\n",
    "    \n",
    "    average_group = list(df_players['player_api_id'][df_players.average == 1])\n",
    "    good_group = list(df_players['player_api_id'][df_players.good == 1])\n",
    "    elite_group = list(df_players['player_api_id'][df_players.elite == 1])\n",
    "\n",
    "    match_id = row['id']\n",
    "    \n",
    "\n",
    "    if home==True:\n",
    "        team='home'\n",
    "    else:\n",
    "        team='away'\n",
    "    \n",
    "    players = []\n",
    "    for x in range(11):\n",
    "        players.append('%s_player_%s' % (team, str(x+1)))\n",
    "           \n",
    "    player_count = 0\n",
    "    \n",
    "    for x in players:\n",
    "        \n",
    "        player = int(df_test[x][df_test.id == match_id])\n",
    "        #print df_players[['overall_rating', 'player_name', 'elite','good','average']][df_players.player_api_id == player]\n",
    "        if player in player_group:\n",
    "            player_count +=1\n",
    "    \n",
    "\n",
    "    return player_count"
   ]
  },
  {
   "cell_type": "code",
   "execution_count": null,
   "metadata": {
    "collapsed": false
   },
   "outputs": [],
   "source": [
    "\n",
    "df_sample_solution = pd.read_csv('sample_solution.csv')\n",
    "df_sample_solution = df_sample_solution.set_index('id')\n",
    "\n",
    "df_solution_set = pd.read_csv('solution_set.csv')\n",
    "df_solution_set = df_solution_set.set_index('id')\n",
    "\n",
    "df_test = pd.concat([df_sample_solution, df_solution_set], axis=1)\n",
    "del df_solution_set, df_sample_solution\n",
    "df_test = df_test.reset_index()\n",
    "\n",
    "\n",
    "df_test.date = pd.to_datetime(df_test.date)\n",
    "\n",
    "players = []\n",
    "for x in range(11):\n",
    "        players.append('home_player_%s' % str(x+1))\n",
    "for x in range(11):\n",
    "        players.append('away_player_%s' % str(x+1))\n",
    "df_test[players] = df_test[players].fillna(0)\n",
    "\n",
    "df_test['home_average_players'] = df_test.apply(test_player_report, player_group = average_group, home=True, axis=1)\n",
    "print 'complete.'\n",
    "df_test['home_good_players'] = df_test.apply(test_player_report, player_group = good_group, home=True, axis=1)\n",
    "print 'Complete.'\n",
    "df_test['home_elite_players'] = df_test.apply(test_player_report, player_group = elite_group, home=True, axis=1)\n",
    "print 'Complete.'\n",
    "df_test['away_average_players'] = df_test.apply(test_player_report, player_group = average_group, home=False, axis=1)\n",
    "print 'Complete.'\n",
    "df_test['away_good_players'] = df_test.apply(test_player_report, player_group = good_group, home=False, axis=1)\n",
    "print 'Complete.'\n",
    "df_test['away_elite_players'] = df_test.apply(test_player_report, player_group = elite_group, home=False, axis=1)\n",
    "print 'For realz Complete.'"
   ]
  },
  {
   "cell_type": "code",
   "execution_count": null,
   "metadata": {
    "collapsed": true
   },
   "outputs": [],
   "source": [
    "df_test = pd.merge(df_test, df_team[['team_api_id', 'team_long_name', 'possession', \n",
    "                'home_goals_scored', 'home_goals_allowed']], left_on = 'home_team_api_id', right_on = 'team_api_id')\n",
    "df_test = pd.merge(df_test, df_team[['team_api_id', 'team_long_name', 'possession', \n",
    "                'away_goals_scored', 'away_goals_allowed']], left_on = 'away_team_api_id', right_on = 'team_api_id')\n",
    "\n",
    "\n",
    "df_test = df_test.rename(columns = {'team_long_name_x':'home_team_name', 'possession_x': 'home_possession',\n",
    "                                  'team_long_name_y':'away_team_name', 'possession_y': 'away_possession',})\n"
   ]
  },
  {
   "cell_type": "code",
   "execution_count": null,
   "metadata": {
    "collapsed": false
   },
   "outputs": [],
   "source": [
    "df_test[['PSH', 'PSD', 'PSA']] = calc_zscore(df_test[['PSH', 'PSD', 'PSA']])"
   ]
  },
  {
   "cell_type": "code",
   "execution_count": null,
   "metadata": {
    "collapsed": false
   },
   "outputs": [],
   "source": [
    "df_test[predictors]"
   ]
  },
  {
   "cell_type": "markdown",
   "metadata": {},
   "source": [
    "## Finally Do Some Machine Learning"
   ]
  },
  {
   "cell_type": "code",
   "execution_count": null,
   "metadata": {
    "collapsed": true
   },
   "outputs": [],
   "source": [
    "def classifiers(strModel, X_train, X_test, y_train, y_test):\n",
    "\n",
    "    from sklearn.lda import LDA\n",
    "    from sklearn.ensemble import RandomForestClassifier\n",
    "    from sklearn.tree import DecisionTreeClassifier\n",
    "    from sklearn.neighbors import KNeighborsClassifier\n",
    "    from sklearn.naive_bayes import GaussianNB\n",
    "    from sklearn.linear_model import LogisticRegression\n",
    "    from sklearn import cross_validation as cv\n",
    "    from sklearn.metrics import classification_report\n",
    "    from sklearn.metrics import confusion_matrix\n",
    "    from sklearn.metrics import accuracy_score\n",
    "    from sklearn.ensemble import GradientBoostingClassifier\n",
    "\n",
    "    models = {'Random_Forest':RandomForestClassifier(), 'Logistic_Regression':LogisticRegression(), 'LDA':LDA(), \n",
    "              'KNN':KNeighborsClassifier(), 'Naive_Bayes':GaussianNB(), 'Decision_Tree':DecisionTreeClassifier(),\n",
    "             'Gradient_Boost': GradientBoostingClassifier()}\n",
    "\n",
    "    model = models[strModel]\n",
    "    \n",
    "    #X_train, X_test, y_train, y_test = cv.train_test_split(X, y, test_size=0.3, random_state=0)\n",
    "    \n",
    "\n",
    "    model.fit(X_train, y_train)\n",
    "  \n",
    "    expected   = y_test\n",
    "    predicted  = model.predict(X_test)\n",
    "\n",
    "    print strModel\n",
    "    print 'Accuracy Score: %s' % accuracy_score(expected, predicted)\n",
    "#    print classification_report(expected, predicted)\n",
    "    \n",
    "    return model, strModel, accuracy_score(expected, predicted)"
   ]
  },
  {
   "cell_type": "code",
   "execution_count": null,
   "metadata": {
    "collapsed": false
   },
   "outputs": [],
   "source": [
    "def evaluate_classifiers(X_train, X_test, y_train, y_test):\n",
    "    \n",
    "    results = {}\n",
    "    \n",
    "    for classifier in ['Random_Forest', 'Logistic_Regression', 'LDA', 'KNN', 'Naive_Bayes', 'Decision_Tree', 'Gradient_Boost']:\n",
    "        model, strModel, accuracy_score = classifiers(strModel=classifier, X_train=X_train, \n",
    "                                                    X_test=X_test, y_train=y_train, y_test=y_test)\n",
    "        results[strModel]= accuracy_score\n",
    "        \n",
    "    return results"
   ]
  },
  {
   "cell_type": "code",
   "execution_count": null,
   "metadata": {
    "collapsed": false
   },
   "outputs": [],
   "source": [
    "predictors = ['home_average_players',\n",
    "       'home_good_players', 'home_elite_players', 'away_average_players',\n",
    "       'away_good_players', 'away_elite_players',  'home_goals_scored',\n",
    "       'home_goals_allowed',  'away_goals_scored', 'away_goals_allowed',]"
   ]
  },
  {
   "cell_type": "code",
   "execution_count": null,
   "metadata": {
    "collapsed": false
   },
   "outputs": [],
   "source": [
    "df_match[['PSH', 'PSD', 'PSA']] = df_match[['PSH', 'PSD', 'PSA']].fillna(df_match[['PSH', 'PSD', 'PSA']].mean())\n",
    "df_test[['PSH', 'PSD', 'PSA']] = df_test[['PSH', 'PSD', 'PSA']].fillna(df_test[['PSH', 'PSD', 'PSA']].mean())"
   ]
  },
  {
   "cell_type": "code",
   "execution_count": null,
   "metadata": {
    "collapsed": true
   },
   "outputs": [],
   "source": [
    "df_league = pd.read_sql('select * from league', con=cnx)"
   ]
  },
  {
   "cell_type": "code",
   "execution_count": null,
   "metadata": {
    "collapsed": false
   },
   "outputs": [],
   "source": [
    "x = 'x'\n",
    "y = 4\n",
    "z = 8\n",
    "\n",
    "{x:[y,z]}"
   ]
  },
  {
   "cell_type": "code",
   "execution_count": null,
   "metadata": {
    "collapsed": false,
    "scrolled": true
   },
   "outputs": [],
   "source": [
    "league_results = {}\n",
    "\n",
    "for league in df_league.id:\n",
    "    \n",
    "    X_train =df_match[predictors][(df_match.outcome.isin(['home_win', 'away_win'])) & (df_match.league_id==league)]\n",
    "    y_train=df_match['outcome'][(df_match.outcome.isin(['home_win', 'away_win']))& (df_match.league_id==league) ]\n",
    "\n",
    "    X_test = df_test[predictors][(df_test.league_id==league)]\n",
    "    y_test = df_test['outcome'][(df_test.league_id==league)]\n",
    "\n",
    "    print 'League %s' % str(league)\n",
    "    results = evaluate_classifiers(X_train, X_test, y_train, y_test)\n",
    "    \n",
    "    league_results[league] = results\n",
    "    \n",
    "    \n",
    "best = {}\n",
    "\n",
    "for league in df_league.id:\n",
    "    model = max(league_results[league])\n",
    "    \n",
    "    best[league] = league_results[league][model]\n",
    "\n",
    "np.mean(best.values())"
   ]
  },
  {
   "cell_type": "code",
   "execution_count": null,
   "metadata": {
    "collapsed": false
   },
   "outputs": [],
   "source": [
    "\n"
   ]
  },
  {
   "cell_type": "code",
   "execution_count": null,
   "metadata": {
    "collapsed": false
   },
   "outputs": [],
   "source": [
    "league_results[1]['Naive_Bayes']"
   ]
  },
  {
   "cell_type": "code",
   "execution_count": null,
   "metadata": {
    "collapsed": false,
    "scrolled": true
   },
   "outputs": [],
   "source": [
    "league = 24558\n",
    "\n",
    "\n",
    "X_train =df_match[predictors][(df_match.league_id == league)]\n",
    "y_train=df_match['outcome'][ (df_match.league_id == league)]\n",
    "\n",
    "X_test = df_test[predictors][df_test.league_id == league]\n",
    "y_test = df_test['outcome'][df_test.league_id == league]\n",
    "\n",
    "\n",
    "evaluate_classifiers(X_train, X_test, y_train, y_test)"
   ]
  },
  {
   "cell_type": "code",
   "execution_count": null,
   "metadata": {
    "collapsed": false,
    "scrolled": false
   },
   "outputs": [],
   "source": [
    "pd.concat([y_test,df_test[['id','league_id','home_team_name','away_team_name', 'PSH', 'PSD', 'PSA']],X_test,],axis=1)"
   ]
  },
  {
   "cell_type": "code",
   "execution_count": null,
   "metadata": {
    "collapsed": false
   },
   "outputs": [],
   "source": []
  },
  {
   "cell_type": "code",
   "execution_count": null,
   "metadata": {
    "collapsed": true
   },
   "outputs": [],
   "source": []
  }
 ],
 "metadata": {
  "kernelspec": {
   "display_name": "Python 2",
   "language": "python",
   "name": "python2"
  },
  "language_info": {
   "codemirror_mode": {
    "name": "ipython",
    "version": 2
   },
   "file_extension": ".py",
   "mimetype": "text/x-python",
   "name": "python",
   "nbconvert_exporter": "python",
   "pygments_lexer": "ipython2",
   "version": "2.7.13"
  }
 },
 "nbformat": 4,
 "nbformat_minor": 0
}
